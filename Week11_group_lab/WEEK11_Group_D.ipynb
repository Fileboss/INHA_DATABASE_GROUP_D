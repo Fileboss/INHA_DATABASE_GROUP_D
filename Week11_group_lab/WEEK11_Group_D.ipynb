{
  "nbformat": 4,
  "nbformat_minor": 0,
  "metadata": {
    "colab": {
      "provenance": [],
      "collapsed_sections": [],
      "include_colab_link": true
    },
    "kernelspec": {
      "name": "python3",
      "display_name": "Python 3"
    },
    "language_info": {
      "name": "python"
    }
  },
  "cells": [
    {
      "cell_type": "markdown",
      "metadata": {
        "id": "view-in-github",
        "colab_type": "text"
      },
      "source": [
        "<a href=\"https://colab.research.google.com/github/Fileboss/INHA_DATABASE_GROUP_D/blob/main/Week11_group_lab/WEEK11_Group_D.ipynb\" target=\"_parent\"><img src=\"https://colab.research.google.com/assets/colab-badge.svg\" alt=\"Open In Colab\"/></a>"
      ]
    },
    {
      "cell_type": "markdown",
      "source": [
        "Lab Group: D\n",
        "Members:\n",
        "- Rodriguez Diego Guilhem (12224836)\n",
        "- Robert Mathieu Gerard Jose (12224837)\n",
        "- Roque Balthazar Tom Jacques Antoine (12224841)\n",
        "- Baus Philippe Yves Leon (12224893)\n",
        "- Zhylkybay Nazerke (12224970)"
      ],
      "metadata": {
        "id": "pFkL7q-2Rjjz"
      }
    },
    {
      "cell_type": "markdown",
      "source": [
        "#Exercice 1"
      ],
      "metadata": {
        "id": "vzZEREtXCTSL"
      }
    },
    {
      "cell_type": "code",
      "execution_count": null,
      "metadata": {
        "id": "g1WRcDmK4VIU"
      },
      "outputs": [],
      "source": [
        "SELECT ID, name,\n",
        "  CASE\n",
        "    WHEN tot_cred < 30 THEN 'Freshman'\n",
        "    WHEN tot_cred < 60 THEN 'Sophomore'\n",
        "    WHEN tot_cred < 90 THEN 'Junior'\n",
        "    WHEN tot_cred < 120 THEN 'Senior'\n",
        "    ELSE'Graduate'\n",
        "  END AS status\n",
        "FROM student;"
      ]
    },
    {
      "cell_type": "markdown",
      "source": [
        "# Exercice 2"
      ],
      "metadata": {
        "id": "ZPHLCHy1CcsF"
      }
    },
    {
      "cell_type": "code",
      "source": [
        "SELECT ID, name,\n",
        "  CASE\n",
        "    WHEN tot_cred < 30 THEN 'Freshman'\n",
        "    WHEN tot_cred < 60 THEN 'Sophomore'\n",
        "    WHEN tot_cred < 90 THEN 'Junior'\n",
        "    WHEN tot_cred < 120 THEN 'Senior'\n",
        "    ELSE 'Graduate'\n",
        "  END AS status,\n",
        "  COUNT(ID)\n",
        "FROM student\n",
        "GROUP BY status;"
      ],
      "metadata": {
        "id": "Y-dSnaTmA8ob"
      },
      "execution_count": null,
      "outputs": []
    },
    {
      "cell_type": "markdown",
      "source": [
        "# Group exercise"
      ],
      "metadata": {
        "id": "l6WbdDQkCXFg"
      }
    },
    {
      "cell_type": "markdown",
      "source": [
        "Suppose students have taken number of courses in 2008, Spring semester.\n",
        "GPA is calculated as follows:\n",
        "- Grade conversion:\n",
        "‘A+’ -> 4.50, ‘A’ -> 4.00, ‘B+’ -> 3.50, ‘B’ -> 3.00 . . . ‘F’ -> 0\n",
        "- Obtained grade for each course:\n",
        "grade * credits\n",
        "- Maximum grades possible for each course:\n",
        "maximum grade * credits\n",
        "- GPA: obtained grades for all courses / maximum grades possible for all courses\n",
        "\n",
        "## Question 1: Calculate the GPA for each student who have taken any course in 2008, Spring semeste"
      ],
      "metadata": {
        "id": "D7PSYyPnDVeQ"
      }
    },
    {
      "cell_type": "code",
      "source": [
        "SELECT Student_ID, SUM(grade * credits) / SUM(max_grade * credits) AS GPA\n",
        "FROM (\n",
        "    SELECT Student_ID, Course_ID, Credits, CASE\n",
        "        WHEN Grade = 'A+' THEN 4.50\n",
        "        WHEN Grade = 'A' THEN 4.00\n",
        "        WHEN Grade = 'B+' THEN 3.50\n",
        "        WHEN Grade = 'B' THEN 3.00\n",
        "        WHEN Grade = 'C+' THEN 2.50\n",
        "        WHEN Grade = 'C' THEN 2.00\n",
        "        WHEN Grade = 'D+' THEN 1.50\n",
        "        WHEN Grade = 'D' THEN 1.00\n",
        "        WHEN Grade = 'F' THEN 0\n",
        "    END AS gpa_grade, MAX(gpa_grade) AS max_grade\n",
        "    FROM Enrollment\n",
        "    WHERE Semester = 'Spring' AND Year = 2008\n",
        ")\n",
        "GROUP BY Student_ID;"
      ],
      "metadata": {
        "id": "lRux_SAICjN7"
      },
      "execution_count": null,
      "outputs": []
    },
    {
      "cell_type": "markdown",
      "source": [
        "### Explanations\n",
        "Here the idea is first to convert every grade of each corse for each student to its GPA value, then to aggregate GPA notes to get average GPA per student.\n",
        "\n",
        "The GROUP BY statement indicate that the aggreagation will be done for each student, distinguished by Student_ID"
      ],
      "metadata": {
        "id": "4N9wB3b2Rx_v"
      }
    },
    {
      "cell_type": "markdown",
      "source": [
        "##Question 2: Find the number of students according to category:\n",
        "- If GPA is between 3.75 and 4.50 then A\n",
        "- If GPA is between 3.00 and 3.75 then B\n",
        "- If GPA is between 2.00 and 3.00 then C\n",
        "- If GPA is between 1.50 and 2.00 then D\n",
        "- If GPA is below 1.50 then F\n",
        "\n",
        "We used the previous question with a view to answer this question"
      ],
      "metadata": {
        "id": "9vPV7WE1GlBk"
      }
    },
    {
      "cell_type": "code",
      "source": [
        "CREATE VIEW GPA AS\n",
        "SELECT Student_ID, SUM(grade * credits) / SUM(max_grade * credits) AS GPA\n",
        "FROM (\n",
        "    SELECT Student_ID, Course_ID, Credits, CASE\n",
        "        WHEN Grade = 'A+' THEN 4.50\n",
        "        WHEN Grade = 'A' THEN 4.00\n",
        "        WHEN Grade = 'B+' THEN 3.50\n",
        "        WHEN Grade = 'B' THEN 3.00\n",
        "        WHEN Grade = 'C+' THEN 2.50\n",
        "        WHEN Grade = 'C' THEN 2.00\n",
        "        WHEN Grade = 'D+' THEN 1.50\n",
        "        WHEN Grade = 'D' THEN 1.00\n",
        "        WHEN Grade = 'F' THEN 0\n",
        "    END AS gpa_grade, MAX(gpa_grade) AS max_grade\n",
        "    FROM Enrollment\n",
        "    WHERE Semester = 'Spring' AND Year = 2008\n",
        ")\n",
        "GROUP BY Student_ID;"
      ],
      "metadata": {
        "id": "3VuBfEhXQD1O"
      },
      "execution_count": null,
      "outputs": []
    },
    {
      "cell_type": "markdown",
      "source": [
        "Here we anticipated that the query would be too heavy, so we decided to re use the query from the previous question to create a View that already contains the average GPA for each student."
      ],
      "metadata": {
        "id": "PiUidcbyT5Ji"
      }
    },
    {
      "cell_type": "code",
      "source": [
        "SELECT CASE\n",
        "    WHEN GPA < 1.50 THEN 'F'\n",
        "    WHEN GPA < 2.00 THEN 'D'\n",
        "    WHEN GPA < 3.00 THEN 'C'\n",
        "    WHEN GPA < 3.75 THEN 'B'\n",
        "    WHEN GPA < 4.50 THEN 'A'\n",
        "END AS Category, COUNT(*) AS Number_of_Students_by_Category\n",
        "FROM GPA\n",
        "GROUP BY Category;"
      ],
      "metadata": {
        "id": "76azOxciGmr6"
      },
      "execution_count": null,
      "outputs": []
    },
    {
      "cell_type": "markdown",
      "source": [
        "### Explanations\n",
        "So once we got the View, it is easier, we can directly get the GPA for each student. The idea here is to transform the GPA to a letter corresponding to the student grade, then to aggregate the student that belongs to the same group, and count them."
      ],
      "metadata": {
        "id": "HBonJrnRVFYJ"
      }
    }
  ]
}